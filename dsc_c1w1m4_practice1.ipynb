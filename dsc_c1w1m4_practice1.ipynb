{
  "cells": [
    {
      "cell_type": "markdown",
      "metadata": {
        "id": "hEsVZFdX548r"
      },
      "source": [
        "# Practice for SQL with Pandas"
      ]
    },
    {
      "cell_type": "markdown",
      "metadata": {
        "id": "ZolqhDkR6EFH"
      },
      "source": [
        "Import the required libraries and bring in the data."
      ]
    },
    {
      "cell_type": "code",
      "execution_count": 1,
      "metadata": {
        "id": "CD9nYZR_nrcl"
      },
      "outputs": [],
      "source": [
        "# Run this code without change\n",
        "\n",
        "import sqlite3\n",
        "import pandas as pd\n",
        "from pandasql import sqldf\n",
        "from matplotlib import pyplot as plt\n",
        "\n",
        "conn = sqlite3.Connection('data.sqlite')"
      ]
    },
    {
      "cell_type": "markdown",
      "metadata": {
        "id": "yOQqAc5F6xrF"
      },
      "source": [
        "1. Read in the products table as a Pandas dataframe.\n",
        "- Call it `df`\n",
        "- Look at the first five rows"
      ]
    },
    {
      "cell_type": "code",
      "execution_count": 2,
      "metadata": {
        "id": "zCRkz0je6x0v"
      },
      "outputs": [
        {
          "data": {
            "text/html": [
              "<div>\n",
              "<style scoped>\n",
              "    .dataframe tbody tr th:only-of-type {\n",
              "        vertical-align: middle;\n",
              "    }\n",
              "\n",
              "    .dataframe tbody tr th {\n",
              "        vertical-align: top;\n",
              "    }\n",
              "\n",
              "    .dataframe thead th {\n",
              "        text-align: right;\n",
              "    }\n",
              "</style>\n",
              "<table border=\"1\" class=\"dataframe\">\n",
              "  <thead>\n",
              "    <tr style=\"text-align: right;\">\n",
              "      <th></th>\n",
              "      <th>productCode</th>\n",
              "      <th>productName</th>\n",
              "      <th>productLine</th>\n",
              "      <th>productScale</th>\n",
              "      <th>productVendor</th>\n",
              "      <th>productDescription</th>\n",
              "      <th>quantityInStock</th>\n",
              "      <th>buyPrice</th>\n",
              "      <th>MSRP</th>\n",
              "    </tr>\n",
              "  </thead>\n",
              "  <tbody>\n",
              "    <tr>\n",
              "      <th>0</th>\n",
              "      <td>S10_1678</td>\n",
              "      <td>1969 Harley Davidson Ultimate Chopper</td>\n",
              "      <td>Motorcycles</td>\n",
              "      <td>1:10</td>\n",
              "      <td>Min Lin Diecast</td>\n",
              "      <td>This replica features working kickstand, front...</td>\n",
              "      <td>7933</td>\n",
              "      <td>48.81</td>\n",
              "      <td>95.70</td>\n",
              "    </tr>\n",
              "    <tr>\n",
              "      <th>1</th>\n",
              "      <td>S10_1949</td>\n",
              "      <td>1952 Alpine Renault 1300</td>\n",
              "      <td>Classic Cars</td>\n",
              "      <td>1:10</td>\n",
              "      <td>Classic Metal Creations</td>\n",
              "      <td>Turnable front wheels; steering function; deta...</td>\n",
              "      <td>7305</td>\n",
              "      <td>98.58</td>\n",
              "      <td>214.30</td>\n",
              "    </tr>\n",
              "    <tr>\n",
              "      <th>2</th>\n",
              "      <td>S10_2016</td>\n",
              "      <td>1996 Moto Guzzi 1100i</td>\n",
              "      <td>Motorcycles</td>\n",
              "      <td>1:10</td>\n",
              "      <td>Highway 66 Mini Classics</td>\n",
              "      <td>Official Moto Guzzi logos and insignias, saddl...</td>\n",
              "      <td>6625</td>\n",
              "      <td>68.99</td>\n",
              "      <td>118.94</td>\n",
              "    </tr>\n",
              "    <tr>\n",
              "      <th>3</th>\n",
              "      <td>S10_4698</td>\n",
              "      <td>2003 Harley-Davidson Eagle Drag Bike</td>\n",
              "      <td>Motorcycles</td>\n",
              "      <td>1:10</td>\n",
              "      <td>Red Start Diecast</td>\n",
              "      <td>Model features, official Harley Davidson logos...</td>\n",
              "      <td>5582</td>\n",
              "      <td>91.02</td>\n",
              "      <td>193.66</td>\n",
              "    </tr>\n",
              "    <tr>\n",
              "      <th>4</th>\n",
              "      <td>S10_4757</td>\n",
              "      <td>1972 Alfa Romeo GTA</td>\n",
              "      <td>Classic Cars</td>\n",
              "      <td>1:10</td>\n",
              "      <td>Motor City Art Classics</td>\n",
              "      <td>Features include: Turnable front wheels; steer...</td>\n",
              "      <td>3252</td>\n",
              "      <td>85.68</td>\n",
              "      <td>136.00</td>\n",
              "    </tr>\n",
              "  </tbody>\n",
              "</table>\n",
              "</div>"
            ],
            "text/plain": [
              "  productCode                            productName   productLine  \\\n",
              "0    S10_1678  1969 Harley Davidson Ultimate Chopper   Motorcycles   \n",
              "1    S10_1949               1952 Alpine Renault 1300  Classic Cars   \n",
              "2    S10_2016                  1996 Moto Guzzi 1100i   Motorcycles   \n",
              "3    S10_4698   2003 Harley-Davidson Eagle Drag Bike   Motorcycles   \n",
              "4    S10_4757                    1972 Alfa Romeo GTA  Classic Cars   \n",
              "\n",
              "  productScale             productVendor  \\\n",
              "0         1:10           Min Lin Diecast   \n",
              "1         1:10   Classic Metal Creations   \n",
              "2         1:10  Highway 66 Mini Classics   \n",
              "3         1:10         Red Start Diecast   \n",
              "4         1:10   Motor City Art Classics   \n",
              "\n",
              "                                  productDescription  quantityInStock  \\\n",
              "0  This replica features working kickstand, front...             7933   \n",
              "1  Turnable front wheels; steering function; deta...             7305   \n",
              "2  Official Moto Guzzi logos and insignias, saddl...             6625   \n",
              "3  Model features, official Harley Davidson logos...             5582   \n",
              "4  Features include: Turnable front wheels; steer...             3252   \n",
              "\n",
              "   buyPrice    MSRP  \n",
              "0     48.81   95.70  \n",
              "1     98.58  214.30  \n",
              "2     68.99  118.94  \n",
              "3     91.02  193.66  \n",
              "4     85.68  136.00  "
            ]
          },
          "execution_count": 2,
          "metadata": {},
          "output_type": "execute_result"
        }
      ],
      "source": [
        "df = pd.read_sql_query(\"\"\"\n",
        "SELECT *\n",
        "FROM products; \n",
        "\"\"\", conn)\n",
        "\n",
        "df.head()"
      ]
    },
    {
      "cell_type": "markdown",
      "metadata": {
        "id": "t1fRC6V06435"
      },
      "source": [
        "2. Using `read.sql()` from Pandas\n",
        "- Determine the average MSRP by product line\n",
        "- Give the average the alias of avgMSRP\n",
        "- Sort alphabetically A-Z by product line"
      ]
    },
    {
      "cell_type": "code",
      "execution_count": null,
      "metadata": {
        "id": "veqqsZHeFDUM"
      },
      "outputs": [
        {
          "data": {
            "text/html": [
              "<div>\n",
              "<style scoped>\n",
              "    .dataframe tbody tr th:only-of-type {\n",
              "        vertical-align: middle;\n",
              "    }\n",
              "\n",
              "    .dataframe tbody tr th {\n",
              "        vertical-align: top;\n",
              "    }\n",
              "\n",
              "    .dataframe thead th {\n",
              "        text-align: right;\n",
              "    }\n",
              "</style>\n",
              "<table border=\"1\" class=\"dataframe\">\n",
              "  <thead>\n",
              "    <tr style=\"text-align: right;\">\n",
              "      <th></th>\n",
              "      <th>productLine</th>\n",
              "      <th>avgMSRP</th>\n",
              "    </tr>\n",
              "  </thead>\n",
              "  <tbody>\n",
              "    <tr>\n",
              "      <th>0</th>\n",
              "      <td>Classic Cars</td>\n",
              "      <td>118.021053</td>\n",
              "    </tr>\n",
              "    <tr>\n",
              "      <th>1</th>\n",
              "      <td>Motorcycles</td>\n",
              "      <td>97.178462</td>\n",
              "    </tr>\n",
              "    <tr>\n",
              "      <th>2</th>\n",
              "      <td>Planes</td>\n",
              "      <td>89.515833</td>\n",
              "    </tr>\n",
              "    <tr>\n",
              "      <th>3</th>\n",
              "      <td>Ships</td>\n",
              "      <td>86.563333</td>\n",
              "    </tr>\n",
              "    <tr>\n",
              "      <th>4</th>\n",
              "      <td>Trains</td>\n",
              "      <td>73.853333</td>\n",
              "    </tr>\n",
              "  </tbody>\n",
              "</table>\n",
              "</div>"
            ],
            "text/plain": [
              "    productLine     avgMSRP\n",
              "0  Classic Cars  118.021053\n",
              "1   Motorcycles   97.178462\n",
              "2        Planes   89.515833\n",
              "3         Ships   86.563333\n",
              "4        Trains   73.853333"
            ]
          },
          "execution_count": 3,
          "metadata": {},
          "output_type": "execute_result"
        }
      ],
      "source": [
        "# Average MSRP by product line \n",
        "query = (\"\"\"\n",
        "SELECT productLine, AVG(MSRP) AS avgMSRP\n",
        "FROM products\n",
        "GROUP BY productLine\n",
        "ORDER BY productLine;\n",
        "\"\"\")\n",
        "\n",
        "df_query = pd.read_sql_query(query, conn)\n",
        "df_query.head()"
      ]
    },
    {
      "cell_type": "markdown",
      "metadata": {
        "id": "fNiR-ArMDnyv"
      },
      "source": [
        "3. Using matplotlib, create a scatterplot that shows `buyPrice` vs `MSRP`"
      ]
    },
    {
      "cell_type": "code",
      "execution_count": null,
      "metadata": {
        "id": "GCIQUbpiDu1d"
      },
      "outputs": [
        {
          "data": {
            "image/png": "[encoded data removed]",
            "text/plain": [
              "<Figure size 640x480 with 1 Axes>"
            ]
          },
          "metadata": {},
          "output_type": "display_data"
        }
      ],
      "source": [
        "# Scatter plot buyPrice vs MSRP\n",
        "import matplotlib.pyplot as plt\n",
        "\n",
        "plt.scatter(df['buyPrice'], df['MSRP'])\n",
        "plt.title('Scatter plot of Buy Price vs MSRP')\n",
        "plt.xlabel('Buy Price')\n",
        "plt.ylabel('MSRP')\n",
        "plt.show()"
      ]
    },
    {
      "cell_type": "markdown",
      "metadata": {
        "id": "JPiuohil6zQg"
      },
      "source": [
        "4. Use the DataFrame `eval` method in place to find the difference of MSRP and the buy price\n",
        "- Call this new column `Price_Difference'\n",
        "- Look at the first five rows\n",
        "- Give the number of rows"
      ]
    },
    {
      "cell_type": "code",
      "execution_count": null,
      "metadata": {
        "id": "vUoz-CYy6z2k"
      },
      "outputs": [
        {
          "name": "stdout",
          "output_type": "stream",
          "text": [
            "     MSRP  buyPrice  Price_Difference\n",
            "0   95.70     48.81             46.89\n",
            "1  214.30     98.58            115.72\n",
            "2  118.94     68.99             49.95\n",
            "3  193.66     91.02            102.64\n",
            "4  136.00     85.68             50.32\n",
            "Number of rows: 110\n"
          ]
        }
      ],
      "source": [
        "# Difference of MSRP and buyPrice \n",
        "df['Price_Difference'] = df['MSRP'] - df['buyPrice']\n",
        "print(df[['MSRP', 'buyPrice', 'Price_Difference']].head())\n",
        "print(f\"Number of rows: {len(df)}\")\n",
        "\n"
      ]
    },
    {
      "cell_type": "markdown",
      "metadata": {
        "id": "AzhmFXdeEnRU"
      },
      "source": [
        "5. Using matplotlib, create a histogram of `Price_Difference`"
      ]
    },
    {
      "cell_type": "code",
      "execution_count": 6,
      "metadata": {
        "id": "15vyg3iwEw_j"
      },
      "outputs": [
        {
          "data": {
            "image/png": "[encoded data removed]",
            "text/plain": [
              "<Figure size 640x480 with 1 Axes>"
            ]
          },
          "metadata": {},
          "output_type": "display_data"
        }
      ],
      "source": [
        "# Histogram of Price_Difference\n",
        "plt.hist(df['Price_Difference'], bins=30, edgecolor='black')\n",
        "plt.title('Histogram of Price Difference (MSRP - Buy Price)')\n",
        "plt.xlabel('Price Difference')\n",
        "plt.ylabel('Frequency')\n",
        "plt.show()\n"
      ]
    },
    {
      "cell_type": "markdown",
      "metadata": {
        "id": "5Mx3iyppFMl3"
      },
      "source": [
        "6. Using slicing, create a DataFrame that contains 'Price_Difference' that is greater than or equal to $50.\n",
        "- Call this `df_50'\n",
        "- Look at the number of rows\n",
        "  - How does this number compare to the number of rows of `df`?"
      ]
    },
    {
      "cell_type": "code",
      "execution_count": null,
      "metadata": {
        "id": "2woEfK2bFMuP"
      },
      "outputs": [
        {
          "data": {
            "text/plain": [
              "32"
            ]
          },
          "execution_count": 8,
          "metadata": {},
          "output_type": "execute_result"
        }
      ],
      "source": [
        "# DataFrame that contains 'Price_Difference' greater than or equal to $50\n",
        "df_50 = df[df['Price_Difference'] >= 50]\n",
        "len(df_50)"
      ]
    },
    {
      "cell_type": "code",
      "execution_count": null,
      "metadata": {},
      "outputs": [
        {
          "name": "stdout",
          "output_type": "stream",
          "text": [
            "78\n"
          ]
        }
      ],
      "source": [
        "# Comparison of the number of rows in the original DataFrame and the filtered DataFrame\n",
        "comparison = len(df) - len(df_50)\n",
        "print(comparison)\n"
      ]
    },
    {
      "cell_type": "code",
      "execution_count": 11,
      "metadata": {},
      "outputs": [],
      "source": [
        "#close the database connection\n",
        "conn.close()"
      ]
    }
  ],
  "metadata": {
    "colab": {
      "provenance": []
    },
    "kernelspec": {
      "display_name": "Python 3 (ipykernel)",
      "language": "python",
      "name": "python3"
    },
    "language_info": {
      "codemirror_mode": {
        "name": "ipython",
        "version": 3
      },
      "file_extension": ".py",
      "mimetype": "text/x-python",
      "name": "python",
      "nbconvert_exporter": "python",
      "pygments_lexer": "ipython3",
      "version": "3.12.4"
    }
  },
  "nbformat": 4,
  "nbformat_minor": 0
}
