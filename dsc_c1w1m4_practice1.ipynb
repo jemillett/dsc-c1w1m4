{
  "nbformat": 4,
  "nbformat_minor": 0,
  "metadata": {
    "colab": {
      "provenance": []
    },
    "kernelspec": {
      "name": "python3",
      "display_name": "Python 3"
    },
    "language_info": {
      "name": "python"
    }
  },
  "cells": [
    {
      "cell_type": "markdown",
      "source": [
        "# Practice for SQL with Pandas"
      ],
      "metadata": {
        "id": "hEsVZFdX548r"
      }
    },
    {
      "cell_type": "markdown",
      "source": [
        "Import the required libraries and bring in the data."
      ],
      "metadata": {
        "id": "ZolqhDkR6EFH"
      }
    },
    {
      "cell_type": "code",
      "execution_count": null,
      "metadata": {
        "id": "CD9nYZR_nrcl"
      },
      "outputs": [],
      "source": [
        "# Run this code without change\n",
        "\n",
        "import sqlite3\n",
        "import pandas as pd\n",
        "from pandasql import sqldf\n",
        "from matplotlib import pyplot as plt\n",
        "\n",
        "conn = sqlite3.Connection('data.sqlite')"
      ]
    },
    {
      "cell_type": "markdown",
      "source": [
        "1. Read in the products table as a Pandas dataframe.\n",
        "- Call it `df`\n",
        "- Look at the first five rows"
      ],
      "metadata": {
        "id": "yOQqAc5F6xrF"
      }
    },
    {
      "cell_type": "code",
      "source": [
        "# Your code here\n",
        "\n"
      ],
      "metadata": {
        "id": "zCRkz0je6x0v"
      },
      "execution_count": null,
      "outputs": []
    },
    {
      "cell_type": "markdown",
      "source": [
        "2. Using `read.sql()` from Pandas\n",
        "- Determine the average MSRP by product line\n",
        "- Give the average the alias of avgMSRP\n",
        "- Sort alphabetically A-Z by product line"
      ],
      "metadata": {
        "id": "t1fRC6V06435"
      }
    },
    {
      "cell_type": "code",
      "source": [
        "# Your code here\n"
      ],
      "metadata": {
        "id": "veqqsZHeFDUM"
      },
      "execution_count": null,
      "outputs": []
    },
    {
      "cell_type": "markdown",
      "source": [
        "3. Using matplotlib, create a scatterplot that shows `buyPrice` vs `MSRP`"
      ],
      "metadata": {
        "id": "fNiR-ArMDnyv"
      }
    },
    {
      "cell_type": "code",
      "source": [
        "# Your code here\n"
      ],
      "metadata": {
        "id": "GCIQUbpiDu1d"
      },
      "execution_count": null,
      "outputs": []
    },
    {
      "cell_type": "markdown",
      "source": [
        "4. Use the DataFrame `eval` method in place to find the difference of MSRP and the buy price\n",
        "- Call this new column `Price_Difference'\n",
        "- Look at the first five rows\n",
        "- Give the number of rows"
      ],
      "metadata": {
        "id": "JPiuohil6zQg"
      }
    },
    {
      "cell_type": "code",
      "source": [
        "# Your code here\n",
        "\n"
      ],
      "metadata": {
        "id": "vUoz-CYy6z2k"
      },
      "execution_count": null,
      "outputs": []
    },
    {
      "cell_type": "markdown",
      "source": [
        "5. Using matplotlib, create a histogram of `Price_Difference`"
      ],
      "metadata": {
        "id": "AzhmFXdeEnRU"
      }
    },
    {
      "cell_type": "code",
      "source": [
        "# Your code here\n"
      ],
      "metadata": {
        "id": "15vyg3iwEw_j"
      },
      "execution_count": 1,
      "outputs": []
    },
    {
      "cell_type": "markdown",
      "source": [
        "6. Using slicing, create a DataFrame that contains 'Price_Difference' that is greater than or equal to $50.\n",
        "- Call this `df_50'\n",
        "- Look at the number of rows\n",
        "  - How does this number compare to the number of rows of `df`?"
      ],
      "metadata": {
        "id": "5Mx3iyppFMl3"
      }
    },
    {
      "cell_type": "code",
      "source": [
        "# Your code here\n",
        "\n"
      ],
      "metadata": {
        "id": "2woEfK2bFMuP"
      },
      "execution_count": null,
      "outputs": []
    }
  ]
}